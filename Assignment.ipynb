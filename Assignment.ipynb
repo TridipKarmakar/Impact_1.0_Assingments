{
 "cells": [
  {
   "cell_type": "code",
   "execution_count": 4,
   "id": "6c2feecd-2a00-4db3-9247-95cdee2f1601",
   "metadata": {},
   "outputs": [
    {
     "name": "stdout",
     "output_type": "stream",
     "text": [
      "2\n",
      "4\n",
      "6\n",
      "8\n",
      "10\n",
      "12\n",
      "14\n",
      "16\n",
      "18\n",
      "20\n"
     ]
    },
    {
     "name": "stdin",
     "output_type": "stream",
     "text": [
      "Enter the password:  pass\n"
     ]
    },
    {
     "name": "stdout",
     "output_type": "stream",
     "text": [
      "Incorrect password.\n"
     ]
    },
    {
     "name": "stdin",
     "output_type": "stream",
     "text": [
      "Enter the password:  pass\n"
     ]
    },
    {
     "name": "stdout",
     "output_type": "stream",
     "text": [
      "Incorrect password.\n"
     ]
    },
    {
     "name": "stdin",
     "output_type": "stream",
     "text": [
      "Enter the password:  pass\n"
     ]
    },
    {
     "name": "stdout",
     "output_type": "stream",
     "text": [
      "Incorrect password.\n",
      "Access denied.\n"
     ]
    }
   ],
   "source": [
    "## Q1. Explain with an example each when to use a for loop and a while loop.\n",
    "## for loop : - \n",
    "   \n",
    "# for loop is iterate over a sequence of values a fixed number of times, \n",
    "# and a while loop is used when we want to continue looping until a certain condition is met. \n",
    "\n",
    "# example of when to use a for loop:\n",
    "# Suppose we want to print out the first 10 even numbers. we can use a for loop to iterate over \n",
    "# the range of numbers from 1 to 20 (inclusive)  and print out the even numbers:\n",
    "\n",
    "for i in range(1, 21):\n",
    "    if i % 2 == 0:\n",
    "        print(i)\n",
    "# This for loop will iterate 20 times and print the final solution.   \n",
    "        \n",
    "# Example of when to use a while loop:\n",
    "# Suppose we want to prompt the user to enter a password, but we want to give them up to three chances to enter the correct\n",
    "# password before giving up. We can use a while loop to keep prompting the user to enter a password until they enter the \n",
    "# correct password or until they have used up all three chances:\n",
    "\n",
    "password = \"password123\"\n",
    "tries = 0\n",
    "while tries < 3:\n",
    "    guess = input(\"Enter the password: \")\n",
    "    if guess == password:\n",
    "        print(\"Access granted!\")\n",
    "        break\n",
    "    else:\n",
    "        print(\"Incorrect password.\")\n",
    "        tries += 1\n",
    "if tries == 3:\n",
    "    print(\"Access denied.\")\n",
    "\n",
    "# This while loop will continue prompting the user to enter a password until they enter the correct password or until they have \n",
    "# used up all three chances. If the user enters the correct password, the loop will break and the program will print \n",
    "# \"Access granted!\" Otherwise, the loop will continue to prompt the user for a password and keep track of the number of tries. \n",
    "# If the user uses up all three tries, the loop will exit and the program will print \"Access denied.\" So every time in while loop \n",
    "# check the codition that tries is less that three or not, if true then it will allow to run the next code otherwize it will break the loop."
   ]
  },
  {
   "cell_type": "code",
   "execution_count": 5,
   "id": "8c19e3b4-2165-45e6-97ed-b2f8fe034513",
   "metadata": {},
   "outputs": [
    {
     "name": "stdout",
     "output_type": "stream",
     "text": [
      "Sum is : (55) & Product is : (3628800) of the first 10 natural numbers using for loops.\n",
      "Sum is : (55) & Product is : (3628800) of the first 10 natural numbers using for loops.\n"
     ]
    }
   ],
   "source": [
    "## Q2. Write a python program to print the sum and product of the first 10 natural numbers using for\n",
    "## and while loop.\n",
    "\n",
    "\n",
    "## Sum and Product of first Natural Numbers Using for Loops \n",
    "\n",
    "list_1 = list(range (1,11))\n",
    "sum_result = 0 \n",
    "product_result = 1 \n",
    "for i in list_1:\n",
    "    sum_result += i\n",
    "    product_result *= i\n",
    "print (f\"Sum is : ({sum_result}) & Product is : ({product_result}) of the first 10 natural numbers using for loops.\")\n",
    "\n",
    "## Sum and Product of first Natural Numbers Using for Loops\n",
    "sum_result = 0\n",
    "product_result = 1\n",
    "counter = 1\n",
    "while counter <= 10:\n",
    "    sum_result += counter\n",
    "    product_result *= counter\n",
    "    counter = counter + 1\n",
    "print (f\"Sum is : ({sum_result}) & Product is : ({product_result}) of the first 10 natural numbers using for loops.\")\n"
   ]
  },
  {
   "cell_type": "code",
   "execution_count": null,
   "id": "233ce8ea-724e-4aeb-9faa-2565950a0965",
   "metadata": {},
   "outputs": [],
   "source": [
    "## Q3. Create a python program to compute the electricity bill for a household.\n",
    "## For the first 100 units, the charged will be Rs. 4.5 per unit,  \n",
    "## for the next 100 units, the charged will be Rs. 6 per unit,\n",
    "## for the next 100 units, the charged will be Rs. 10 per unit, \n",
    "## after 300 units and above the user will be charged Rs. 20 per unit.\n",
    "\n",
    "## You are required to take the units of electricity consumed in a month from the user as input.\n",
    "\n",
    "## Test case Unit_Consumed = 310 and Unit_Consumed = 2250. \n",
    "\n",
    "unit_consumed = int(input(\"Please enter your electricity consumption in (Unit) : \"))\n",
    "Bill = 0\n",
    "if unit_consumed < 100 :\n",
    "    Bill = unit_consumed * 4.5\n",
    "elif unit_consumed >= 100 and unit_consumed < 200 :\n",
    "    Bill = ((100 * 4.5)+((unit_consumed-100))*6)\n",
    "elif unit_consumed >= 200 and unit_consumed < 300 :\n",
    "    Bill = ((100 * 4.5) + (100 * 6) + ((unit_consumed-200)) * 10)\n",
    "else :\n",
    "    Bill = ((100 * 4.5) + (100 * 6) + (100 * 10) + ((unit_consumed - 300 ) * 20))\n",
    "Bill"
   ]
  },
  {
   "cell_type": "code",
   "execution_count": null,
   "id": "729fb6fb-3eb0-41f5-b800-4a60ebeef023",
   "metadata": {},
   "outputs": [],
   "source": [
    "## Q4. Create a list of numbers from 1 to 100. \n",
    "## Use for loop and while loop to calculate the cube of each number and \n",
    "## if the cube of that number is divisible by 4 or 5 then append that number in a list and print that list.\n",
    "\n",
    "list_of_range = list(range(0,101))\n",
    "new_list = []\n",
    "for i in list_of_range:\n",
    "    if (((list_of_range[i]**3)%4==0) or ((list_of_range[i]**3)%5==0))  == True :\n",
    "        new_list.append(list_of_range[i])\n",
    "print (new_list)\n"
   ]
  },
  {
   "cell_type": "code",
   "execution_count": null,
   "id": "5ac9c38d-86f1-44ad-8e74-99410b048559",
   "metadata": {},
   "outputs": [],
   "source": [
    "## Q5. Write a program to filter count vowels in the below-given string.\n",
    "## string = \"I want to become a data scientist\"\n",
    "\n",
    "string = \"I want to become a data scientist\"\n",
    "count = 0\n",
    "for i in string :\n",
    "    if (i== \"a\" or i == \"A\" or i == \"e\" or i == \"E\" or i == \"I\" or  i == \"i\" or i == \"o\" or i == \"O\" or i == \"U\" or i == \"u\") :  \n",
    "        count += 1\n",
    "count\n",
    "\n"
   ]
  }
 ],
 "metadata": {
  "kernelspec": {
   "display_name": "Python 3 (ipykernel)",
   "language": "python",
   "name": "python3"
  },
  "language_info": {
   "codemirror_mode": {
    "name": "ipython",
    "version": 3
   },
   "file_extension": ".py",
   "mimetype": "text/x-python",
   "name": "python",
   "nbconvert_exporter": "python",
   "pygments_lexer": "ipython3",
   "version": "3.10.6"
  }
 },
 "nbformat": 4,
 "nbformat_minor": 5
}
