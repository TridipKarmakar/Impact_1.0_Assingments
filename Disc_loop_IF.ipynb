{
 "cells": [
  {
   "cell_type": "code",
   "execution_count": 4,
   "id": "88cb2af9-ddf6-4bfd-a96a-f7701b119020",
   "metadata": {},
   "outputs": [
    {
     "data": {
      "text/plain": [
       "'PWSKILLS'"
      ]
     },
     "execution_count": 4,
     "metadata": {},
     "output_type": "execute_result"
    }
   ],
   "source": [
    "S = \"PWSKILLS\"\n",
    "S"
   ]
  },
  {
   "cell_type": "code",
   "execution_count": 7,
   "id": "6ec9f6cc-151e-4849-8397-6f05f5acab39",
   "metadata": {},
   "outputs": [
    {
     "data": {
      "text/plain": [
       "''"
      ]
     },
     "execution_count": 7,
     "metadata": {},
     "output_type": "execute_result"
    }
   ],
   "source": [
    "S[2:7:-1]"
   ]
  },
  {
   "cell_type": "code",
   "execution_count": 10,
   "id": "5eef2221-14d4-414b-ba5b-01a1c3220aaf",
   "metadata": {},
   "outputs": [
    {
     "data": {
      "text/plain": [
       "''"
      ]
     },
     "execution_count": 10,
     "metadata": {},
     "output_type": "execute_result"
    }
   ],
   "source": [
    "S[8:0]"
   ]
  },
  {
   "cell_type": "code",
   "execution_count": 16,
   "id": "6f9a79ce-63e0-40a4-9da2-f757b74e4651",
   "metadata": {},
   "outputs": [
    {
     "data": {
      "text/plain": [
       "'SLLIKSWP'"
      ]
     },
     "execution_count": 16,
     "metadata": {},
     "output_type": "execute_result"
    }
   ],
   "source": [
    "S[8::-1]"
   ]
  },
  {
   "cell_type": "code",
   "execution_count": 21,
   "id": "f8a0b390-d342-48b0-ba6c-49034b83f6b0",
   "metadata": {},
   "outputs": [
    {
     "data": {
      "text/plain": [
       "'LLIKSWP'"
      ]
     },
     "execution_count": 21,
     "metadata": {},
     "output_type": "execute_result"
    }
   ],
   "source": [
    "S[-2::-1]"
   ]
  },
  {
   "cell_type": "code",
   "execution_count": 30,
   "id": "8950aff9-4aab-4d8e-b0fe-e285ae0d1809",
   "metadata": {},
   "outputs": [
    {
     "data": {
      "text/plain": [
       "'SLLIKSWP'"
      ]
     },
     "execution_count": 30,
     "metadata": {},
     "output_type": "execute_result"
    }
   ],
   "source": [
    "S[:-90:-1]"
   ]
  },
  {
   "cell_type": "code",
   "execution_count": 32,
   "id": "cdf0f911-dfaa-4848-b8f4-2def774e9573",
   "metadata": {},
   "outputs": [
    {
     "data": {
      "text/plain": [
       "'PWSKILLS'"
      ]
     },
     "execution_count": 32,
     "metadata": {},
     "output_type": "execute_result"
    }
   ],
   "source": [
    "S[0:90]"
   ]
  },
  {
   "cell_type": "code",
   "execution_count": 33,
   "id": "31288477-831e-43cb-94ff-d1184e030ccb",
   "metadata": {},
   "outputs": [],
   "source": [
    "S =200"
   ]
  },
  {
   "cell_type": "code",
   "execution_count": 49,
   "id": "e4afacef-ffc7-4f23-95d8-ed128f89a17d",
   "metadata": {},
   "outputs": [
    {
     "data": {
      "text/plain": [
       "2"
      ]
     },
     "execution_count": 49,
     "metadata": {},
     "output_type": "execute_result"
    }
   ],
   "source": [
    "s1 = \"THIS IS STRING CLASS\"\n",
    "s1.find('S')\n",
    "s1.find('IS')"
   ]
  },
  {
   "cell_type": "code",
   "execution_count": 54,
   "id": "60fca658-75c5-4265-9a8e-c357c7a4f365",
   "metadata": {},
   "outputs": [
    {
     "data": {
      "text/plain": [
       "0"
      ]
     },
     "execution_count": 54,
     "metadata": {},
     "output_type": "execute_result"
    }
   ],
   "source": [
    "s1.count('Z')\n",
    "\n",
    "\n",
    "\n"
   ]
  },
  {
   "cell_type": "code",
   "execution_count": 60,
   "id": "8785a27d-83b2-435d-a11f-39fff0167176",
   "metadata": {},
   "outputs": [
    {
     "data": {
      "text/plain": [
       "'this is string class'"
      ]
     },
     "execution_count": 60,
     "metadata": {},
     "output_type": "execute_result"
    }
   ],
   "source": [
    "s1.lower()"
   ]
  },
  {
   "cell_type": "code",
   "execution_count": 66,
   "id": "f400a51e-f679-46de-ad5b-1844ba58d79b",
   "metadata": {},
   "outputs": [
    {
     "data": {
      "text/plain": [
       "'This is string class'"
      ]
     },
     "execution_count": 66,
     "metadata": {},
     "output_type": "execute_result"
    }
   ],
   "source": [
    "s2 = 'this is string class'\n",
    "s2.lower()\n",
    "s2.title()\n",
    "s2.capitalize()\n"
   ]
  },
  {
   "cell_type": "code",
   "execution_count": 76,
   "id": "81c3d5a7-35d5-46d4-a34b-90ba55b44ffa",
   "metadata": {
    "collapsed": true,
    "jupyter": {
     "outputs_hidden": true
    },
    "tags": []
   },
   "outputs": [
    {
     "ename": "TypeError",
     "evalue": "unsupported operand type(s) for /: 'str' and 'str'",
     "output_type": "error",
     "traceback": [
      "\u001b[0;31m---------------------------------------------------------------------------\u001b[0m",
      "\u001b[0;31mTypeError\u001b[0m                                 Traceback (most recent call last)",
      "Cell \u001b[0;32mIn [76], line 2\u001b[0m\n\u001b[1;32m      1\u001b[0m s2\u001b[38;5;241m+\u001b[39m\u001b[38;5;28mstr\u001b[39m(\u001b[38;5;241m1\u001b[39m)\n\u001b[0;32m----> 2\u001b[0m \u001b[43ms2\u001b[49m\u001b[43m \u001b[49m\u001b[38;5;241;43m/\u001b[39;49m\u001b[43m \u001b[49m\u001b[38;5;124;43m\"\u001b[39;49m\u001b[38;5;124;43m3\u001b[39;49m\u001b[38;5;124;43m\"\u001b[39;49m\n",
      "\u001b[0;31mTypeError\u001b[0m: unsupported operand type(s) for /: 'str' and 'str'"
     ]
    }
   ],
   "source": [
    "s2+str(1)\n",
    "s2 / \"3\""
   ]
  },
  {
   "cell_type": "code",
   "execution_count": 79,
   "id": "b30c82f4-5254-4469-adfd-7a80af1d8dcb",
   "metadata": {},
   "outputs": [
    {
     "data": {
      "text/plain": [
       "\"don't do copy pest\""
      ]
     },
     "execution_count": 79,
     "metadata": {},
     "output_type": "execute_result"
    }
   ],
   "source": [
    "\"don't do copy pest\""
   ]
  },
  {
   "cell_type": "code",
   "execution_count": 85,
   "id": "e2de2369-82ff-4813-b68e-358f7713f5b7",
   "metadata": {},
   "outputs": [
    {
     "data": {
      "text/plain": [
       "'This is string class'"
      ]
     },
     "execution_count": 85,
     "metadata": {},
     "output_type": "execute_result"
    }
   ],
   "source": [
    "# This is my first class for programming \n",
    "# as a\n",
    "s2.capitalize()"
   ]
  },
  {
   "cell_type": "code",
   "execution_count": 20,
   "id": "2675e435-9ef9-4cba-862e-b7c91fc56eea",
   "metadata": {},
   "outputs": [
    {
     "data": {
      "text/plain": [
       "[1, 345, 45, 'tridip', True, (5+7j), 345.456, ['pwskills', '23455']]"
      ]
     },
     "execution_count": 20,
     "metadata": {},
     "output_type": "execute_result"
    }
   ],
   "source": [
    "l =[1,345,45,\"tridip\",True,5+7j, 345.456]\n",
    "pw = [\"pwskills\",\"23455\"]\n",
    "l.append(pw)\n",
    "l"
   ]
  },
  {
   "cell_type": "code",
   "execution_count": 21,
   "id": "7e2134dd-ee79-408e-98f2-f6308e392352",
   "metadata": {},
   "outputs": [
    {
     "data": {
      "text/plain": [
       "['23455']"
      ]
     },
     "execution_count": 21,
     "metadata": {},
     "output_type": "execute_result"
    }
   ],
   "source": [
    "l[7][1:2:]"
   ]
  },
  {
   "cell_type": "code",
   "execution_count": 25,
   "id": "6e91f4bb-1387-438a-a6ae-16cad357428b",
   "metadata": {},
   "outputs": [
    {
     "data": {
      "text/plain": [
       "'pws'"
      ]
     },
     "execution_count": 25,
     "metadata": {},
     "output_type": "execute_result"
    }
   ],
   "source": [
    "l[7][0][:3]"
   ]
  },
  {
   "cell_type": "code",
   "execution_count": 32,
   "id": "7d9b95f2-0eac-4b44-a51b-b1d15c589d66",
   "metadata": {},
   "outputs": [
    {
     "data": {
      "text/plain": [
       "[1, 2, 3, 4, 1, 2, 3]"
      ]
     },
     "execution_count": 32,
     "metadata": {},
     "output_type": "execute_result"
    }
   ],
   "source": [
    "l=[1,2,3,4]\n",
    "l.extend([1,2,3,])\n",
    "l"
   ]
  },
  {
   "cell_type": "code",
   "execution_count": 53,
   "id": "81b898a9-38a3-477b-8938-7ee698ee2dfd",
   "metadata": {},
   "outputs": [
    {
     "name": "stdout",
     "output_type": "stream",
     "text": [
      "[34, 1, 2, ['t', 'w'], ['t', 'w'], ['t', 'w'], ['t', 'w'], ['t', 'w'], 'tridp', ['t', 'w'], ['t', 'w'], ['t', 'w'], ['t', 'w'], ['t', 'w'], ['t', 'w'], 'tridp', 'tridp', 'tridp', 'tridp', 'tridp', 3, 4, 1, 2, 34, 34, 3]\n"
     ]
    },
    {
     "data": {
      "text/plain": [
       "34"
      ]
     },
     "execution_count": 53,
     "metadata": {},
     "output_type": "execute_result"
    }
   ],
   "source": [
    "l.insert(3,[\"t\",\"w\"])\n",
    "print(l)\n",
    "\n",
    "l.insert(0,34)\n",
    "l.pop(1)"
   ]
  },
  {
   "cell_type": "code",
   "execution_count": 84,
   "id": "3c4e9a9e-78c5-4aba-8f2d-61df0e44d5c8",
   "metadata": {},
   "outputs": [
    {
     "data": {
      "text/plain": [
       "[1, 2, 3, [1, 2, 3]]"
      ]
     },
     "execution_count": 84,
     "metadata": {},
     "output_type": "execute_result"
    }
   ],
   "source": [
    "l =[1,2,3,[1,2,3]]\n",
    "l\n"
   ]
  },
  {
   "cell_type": "code",
   "execution_count": 91,
   "id": "adcd837f-1b22-4070-8950-f29a4a2d761e",
   "metadata": {},
   "outputs": [
    {
     "ename": "ValueError",
     "evalue": "list.remove(x): x not in list",
     "output_type": "error",
     "traceback": [
      "\u001b[0;31m---------------------------------------------------------------------------\u001b[0m",
      "\u001b[0;31mValueError\u001b[0m                                Traceback (most recent call last)",
      "Cell \u001b[0;32mIn [91], line 1\u001b[0m\n\u001b[0;32m----> 1\u001b[0m \u001b[43ml\u001b[49m\u001b[43m[\u001b[49m\u001b[38;5;241;43m3\u001b[39;49m\u001b[43m]\u001b[49m\u001b[38;5;241;43m.\u001b[39;49m\u001b[43mremove\u001b[49m\u001b[43m(\u001b[49m\u001b[38;5;241;43m3\u001b[39;49m\u001b[43m)\u001b[49m\n",
      "\u001b[0;31mValueError\u001b[0m: list.remove(x): x not in list"
     ]
    }
   ],
   "source": [
    "l[3].remove(3)"
   ]
  },
  {
   "cell_type": "code",
   "execution_count": 98,
   "id": "91803183-e4cc-4502-9933-d11117bb04e9",
   "metadata": {},
   "outputs": [
    {
     "data": {
      "text/plain": [
       "<function list.reverse()>"
      ]
     },
     "execution_count": 98,
     "metadata": {},
     "output_type": "execute_result"
    }
   ],
   "source": [
    "l = [\"tr\",\"dip\"]\n",
    "l.reverse"
   ]
  },
  {
   "cell_type": "code",
   "execution_count": 107,
   "id": "9a7cd7a1-8d2a-4868-8440-ad3ed5f364fc",
   "metadata": {},
   "outputs": [
    {
     "data": {
      "text/plain": [
       "[1, 2, [1, 2, 3, 33], 5, 3, 4]"
      ]
     },
     "execution_count": 107,
     "metadata": {},
     "output_type": "execute_result"
    }
   ],
   "source": [
    "l = [1,2,[1,2,33,3],5,3,4]\n",
    "l[2].sort()\n",
    "l\n",
    "\n"
   ]
  },
  {
   "cell_type": "code",
   "execution_count": 122,
   "id": "60e5ec77-1891-4ad3-acb0-bcdb963e0abe",
   "metadata": {},
   "outputs": [
    {
     "data": {
      "text/plain": [
       "[30]"
      ]
     },
     "execution_count": 122,
     "metadata": {},
     "output_type": "execute_result"
    }
   ],
   "source": [
    "l1 = [3]\n",
    "l1[0] =30 \n",
    "l1"
   ]
  },
  {
   "cell_type": "code",
   "execution_count": 128,
   "id": "427b74fd-c0bd-435b-b929-735aed7795c8",
   "metadata": {},
   "outputs": [
    {
     "data": {
      "text/plain": [
       "'aridip'"
      ]
     },
     "execution_count": 128,
     "metadata": {},
     "output_type": "execute_result"
    }
   ],
   "source": [
    "l1 = \"tridip\"\n",
    "l1= l1.replace('t','a')\n",
    "l1"
   ]
  },
  {
   "cell_type": "code",
   "execution_count": 134,
   "id": "02cd910e-4df6-48ac-a786-63348eb85693",
   "metadata": {},
   "outputs": [
    {
     "data": {
      "text/plain": [
       "6"
      ]
     },
     "execution_count": 134,
     "metadata": {},
     "output_type": "execute_result"
    }
   ],
   "source": [
    "T = (2,3,4,5,\"tridip\",[2,3,4])\n",
    "len(T)"
   ]
  },
  {
   "cell_type": "code",
   "execution_count": 139,
   "id": "41d6985b-10e0-4da2-bcf8-b08f7483dc8f",
   "metadata": {},
   "outputs": [
    {
     "ename": "TypeError",
     "evalue": "'tuple' object does not support item assignment",
     "output_type": "error",
     "traceback": [
      "\u001b[0;31m---------------------------------------------------------------------------\u001b[0m",
      "\u001b[0;31mTypeError\u001b[0m                                 Traceback (most recent call last)",
      "Cell \u001b[0;32mIn [139], line 1\u001b[0m\n\u001b[0;32m----> 1\u001b[0m \u001b[43mT\u001b[49m\u001b[43m[\u001b[49m\u001b[38;5;241;43m0\u001b[39;49m\u001b[43m]\u001b[49m\u001b[38;5;241m=\u001b[39m \u001b[38;5;241m0\u001b[39m\n",
      "\u001b[0;31mTypeError\u001b[0m: 'tuple' object does not support item assignment"
     ]
    }
   ],
   "source": [
    "T[0]= 0"
   ]
  },
  {
   "cell_type": "code",
   "execution_count": 1,
   "id": "2ad898e1-6585-451d-a61b-28e80ef62d66",
   "metadata": {},
   "outputs": [
    {
     "data": {
      "text/plain": [
       "{2, 222, 2222222, 23, 33, 3333, 4, 'abc'}"
      ]
     },
     "execution_count": 1,
     "metadata": {},
     "output_type": "execute_result"
    }
   ],
   "source": [
    "s1 ={23,2,333,222,3333,2222222,33,2,\"abc\"}\n",
    "s1.add(4)\n",
    "s1.discard(333)\n",
    "s1\n"
   ]
  },
  {
   "cell_type": "code",
   "execution_count": 3,
   "id": "701172b1-d5ef-464e-855b-753c853eac69",
   "metadata": {},
   "outputs": [],
   "source": [
    "d = {}"
   ]
  },
  {
   "cell_type": "code",
   "execution_count": 9,
   "id": "1c3c421c-6875-4f4b-b511-c87989abf144",
   "metadata": {},
   "outputs": [
    {
     "data": {
      "text/plain": [
       "{'name': 'Tridip',\n",
       " 'email': 'ss@gmail.com',\n",
       " 'Phno': 8479983303,\n",
       " '@': 'Tridip',\n",
       " True: 112}"
      ]
     },
     "execution_count": 9,
     "metadata": {},
     "output_type": "execute_result"
    }
   ],
   "source": [
    "d1 = {'Name' : 'Trdip'}\n",
    "d2 ={'name' : 'Tridip', 'email' : 'ss@gmail.com', 'Phno': 8479983303, '@' : 'Tridip', True : 112}\n",
    "d2"
   ]
  },
  {
   "cell_type": "code",
   "execution_count": 1,
   "id": "936fb8bf-6fa2-4674-97a5-647b218318b3",
   "metadata": {},
   "outputs": [
    {
     "ename": "NameError",
     "evalue": "name 'd2' is not defined",
     "output_type": "error",
     "traceback": [
      "\u001b[0;31m---------------------------------------------------------------------------\u001b[0m",
      "\u001b[0;31mNameError\u001b[0m                                 Traceback (most recent call last)",
      "Cell \u001b[0;32mIn [1], line 1\u001b[0m\n\u001b[0;32m----> 1\u001b[0m \u001b[43md2\u001b[49m[\u001b[38;5;124m'\u001b[39m\u001b[38;5;124mTridip\u001b[39m\u001b[38;5;124m'\u001b[39m]\n",
      "\u001b[0;31mNameError\u001b[0m: name 'd2' is not defined"
     ]
    }
   ],
   "source": [
    "d2['Tridip']"
   ]
  },
  {
   "cell_type": "code",
   "execution_count": 6,
   "id": "c25bebaa-4e22-4fb4-938b-e379e70080ea",
   "metadata": {},
   "outputs": [
    {
     "data": {
      "text/plain": [
       "{'name': 'sudh', 'roll': 1223}"
      ]
     },
     "execution_count": 6,
     "metadata": {},
     "output_type": "execute_result"
    }
   ],
   "source": [
    "d4 ={'name' : 'Tridip','roll' : 1223, 'name' : 'sudh'}\n",
    "d4"
   ]
  },
  {
   "cell_type": "code",
   "execution_count": 8,
   "id": "2acb091b-6dff-4e7a-897a-a5c0d249b098",
   "metadata": {},
   "outputs": [
    {
     "data": {
      "text/plain": [
       "'sudh'"
      ]
     },
     "execution_count": 8,
     "metadata": {},
     "output_type": "execute_result"
    }
   ],
   "source": [
    " d4['name']\n"
   ]
  },
  {
   "cell_type": "code",
   "execution_count": 14,
   "id": "29c0461d-299a-498f-b8cf-43994921e76a",
   "metadata": {},
   "outputs": [
    {
     "data": {
      "text/plain": [
       "'Java With DSA'"
      ]
     },
     "execution_count": 14,
     "metadata": {},
     "output_type": "execute_result"
    }
   ],
   "source": [
    "d5 = {'company' : 'PW Skills', 'course' : [\"web Dev\",\"Data Science\", \"Java With DSA\"]}\n",
    "d5 ['course'][2]"
   ]
  },
  {
   "cell_type": "code",
   "execution_count": 22,
   "id": "52076762-d451-4698-9454-8d1796642608",
   "metadata": {},
   "outputs": [
    {
     "data": {
      "text/plain": [
       "{'number': [12, 13, 3, 34],\n",
       " 'assongment': (1, 2, 3, 4),\n",
       " 'lanch_date': {'28,12,14'},\n",
       " 'class_timming': {'Webdev': 8, 'java with dsa ': 7}}"
      ]
     },
     "execution_count": 22,
     "metadata": {},
     "output_type": "execute_result"
    }
   ],
   "source": [
    "d6 = {\"number\" : [12,13,3,34], 'assongment' : (1,2,3,4), 'lanch_date' : {'28,12,14'}, 'class_timming' : {\"Webdev\": 8, \"java with dsa\" : 7}}\n",
    "d6"
   ]
  },
  {
   "cell_type": "code",
   "execution_count": 37,
   "id": "965aa3d5-69ca-480f-a05b-1af91bb3dac6",
   "metadata": {},
   "outputs": [
    {
     "data": {
      "text/plain": [
       "{'number': [12, 13, 3, 34],\n",
       " 'assongment': (1, 2, 3, 4),\n",
       " 'lanch_date': {'28,12,14'},\n",
       " 'class_timming': ['Shudh', 'krish', 'Tridip'],\n",
       " 'Mentor': ['Shudh', 'krish', 'Tridip']}"
      ]
     },
     "execution_count": 37,
     "metadata": {},
     "output_type": "execute_result"
    }
   ],
   "source": [
    "d6 ['class_timming' ] = [\"Shudh\", \"krish\",\"Tridip\"] \n",
    " "
   ]
  },
  {
   "cell_type": "code",
   "execution_count": 45,
   "id": "0641228c-5944-4471-8b74-ef481debd5d4",
   "metadata": {},
   "outputs": [
    {
     "data": {
      "text/plain": [
       "[(1, 2, 3, 4),\n",
       " {'28,12,14'},\n",
       " ['Shudh', 'krish', 'Tridip'],\n",
       " ['Shudh', 'krish', 'Tridip']]"
      ]
     },
     "execution_count": 45,
     "metadata": {},
     "output_type": "execute_result"
    }
   ],
   "source": [
    "list(d6.keys())\n",
    "list(d6.values())\n"
   ]
  },
  {
   "cell_type": "code",
   "execution_count": 48,
   "id": "a172d302-ba55-45f5-b63d-9874b0f2c446",
   "metadata": {},
   "outputs": [
    {
     "data": {
      "text/plain": [
       "[('assongment', (1, 2, 3, 4)),\n",
       " ('lanch_date', {'28,12,14'}),\n",
       " ('class_timming', ['Shudh', 'krish', 'Tridip']),\n",
       " ('Mentor', ['Shudh', 'krish', 'Tridip'])]"
      ]
     },
     "execution_count": 48,
     "metadata": {},
     "output_type": "execute_result"
    }
   ],
   "source": [
    "list(d6.items())"
   ]
  },
  {
   "cell_type": "code",
   "execution_count": 52,
   "id": "ab186c8c-e4a3-4664-9560-236940954db8",
   "metadata": {},
   "outputs": [
    {
     "data": {
      "text/plain": [
       "{'lanch_date': {'28,12,14'},\n",
       " 'class_timming': ['Shudh', 'krish', 'Tridip'],\n",
       " 'Mentor': ['Shudh', 'krish', 'Tridip']}"
      ]
     },
     "execution_count": 52,
     "metadata": {},
     "output_type": "execute_result"
    }
   ],
   "source": [
    " d6"
   ]
  },
  {
   "cell_type": "code",
   "execution_count": 71,
   "id": "5181bbfc-dbdb-4a3c-a10a-53808b3b5ee6",
   "metadata": {},
   "outputs": [
    {
     "name": "stdin",
     "output_type": "stream",
     "text": [
      "Enter Your Number 45\n"
     ]
    },
    {
     "name": "stdout",
     "output_type": "stream",
     "text": [
      "you will be the part of A2 Bathc\n"
     ]
    }
   ],
   "source": [
    "marks = float(input (\"Enter Your Number\"))\n",
    "if marks >= 80 :\n",
    "    print (\"you will be the par3t of A0 Bathc\")\n",
    "elif marks >= 60  and  marks < 80 :\n",
    "    print (\"you will be the part of A1 Bathc\")\n",
    "elif marks >= 40  and  marks < 60 :\n",
    "    print (\"you will be the part of A2 Bathc\")\n",
    "else  :\n",
    "    print (\"you will be the part of A3 Bathc\")"
   ]
  },
  {
   "cell_type": "code",
   "execution_count": 81,
   "id": "51aba163-7729-4ec0-be56-2e86b6b3ff5b",
   "metadata": {},
   "outputs": [
    {
     "name": "stdin",
     "output_type": "stream",
     "text": [
      "eenter price :  400\n"
     ]
    },
    {
     "name": "stdout",
     "output_type": "stream",
     "text": [
      "i will not intrested\n"
     ]
    }
   ],
   "source": [
    "price = int(input (\"eenter price : \"))\n",
    "if price > 1000 :\n",
    "    print (\"i will not purchaase\")\n",
    "    if price > 5000:\n",
    "        print (\"this is too much\")\n",
    "    elif price < 2000:\n",
    "        print (\"its ok\")\n",
    "elif price < 1000 and price > 500:\n",
    "    print (\"i waill purchase\")\n",
    "else :\n",
    "    print (\"i will not intrested\")"
   ]
  },
  {
   "cell_type": "code",
   "execution_count": 83,
   "id": "4b3c225a-52ba-40cb-9060-8cbd8994f5e7",
   "metadata": {},
   "outputs": [],
   "source": [
    "l = [1,2,3,4,4,3,2,5]"
   ]
  },
  {
   "cell_type": "code",
   "execution_count": 88,
   "id": "bee39d84-5b7d-4788-a906-0c2c8e61251e",
   "metadata": {},
   "outputs": [
    {
     "name": "stdout",
     "output_type": "stream",
     "text": [
      "2\n",
      "3\n",
      "4\n",
      "5\n",
      "5\n",
      "4\n",
      "3\n",
      "6\n"
     ]
    },
    {
     "data": {
      "text/plain": [
       "[2, 3, 4, 5, 5, 4, 3, 6]"
      ]
     },
     "execution_count": 88,
     "metadata": {},
     "output_type": "execute_result"
    }
   ],
   "source": [
    "l1 = []\n",
    "\n",
    "for i in l :\n",
    "    print (i+1)\n",
    "    l1.append(i+1)\n",
    "l1"
   ]
  },
  {
   "cell_type": "code",
   "execution_count": 89,
   "id": "1a62cc51-38f0-47ff-9701-b05b2b4134b2",
   "metadata": {},
   "outputs": [],
   "source": [
    "l = [\"Tridip\", \"Karmakar\", \"PwSkills\"]"
   ]
  },
  {
   "cell_type": "code",
   "execution_count": 97,
   "id": "3518d043-80a4-4ea5-a1c2-1217a79fa083",
   "metadata": {},
   "outputs": [
    {
     "name": "stdout",
     "output_type": "stream",
     "text": [
      "Tridip\n",
      "Karmakar\n",
      "PwSkills\n"
     ]
    },
    {
     "data": {
      "text/plain": [
       "['TRIDIP', 'KARMAKAR', 'PWSKILLS']"
      ]
     },
     "execution_count": 97,
     "metadata": {},
     "output_type": "execute_result"
    }
   ],
   "source": [
    "l1 = []\n",
    "for i in l :\n",
    "    print(i)\n",
    "    l1.append(i.upper())\n",
    "l1"
   ]
  },
  {
   "cell_type": "code",
   "execution_count": 98,
   "id": "91df41e6-7883-4207-b171-68c383b444ca",
   "metadata": {},
   "outputs": [],
   "source": [
    "l = [1,2,3,4,5,6,\"sudh\",\"kumar\", 34.5, \"abc\"]"
   ]
  },
  {
   "cell_type": "code",
   "execution_count": 109,
   "id": "3d3fc6ea-49e6-4c27-a81d-6a11398dfaf2",
   "metadata": {},
   "outputs": [
    {
     "name": "stdout",
     "output_type": "stream",
     "text": [
      "[1, 2, 3, 4, 5, 6, 34.5]\n",
      "['sudh', 'kumar', 'abc']\n"
     ]
    }
   ],
   "source": [
    "A = []\n",
    "B = []\n",
    "\n",
    "for i in l:\n",
    "    if type(i)== int or type(i) == float  :\n",
    "        A.append(i)\n",
    "    else :\n",
    "        B.append(i)\n",
    "print(A)\n",
    "print(B)"
   ]
  }
 ],
 "metadata": {
  "kernelspec": {
   "display_name": "Python 3 (ipykernel)",
   "language": "python",
   "name": "python3"
  },
  "language_info": {
   "codemirror_mode": {
    "name": "ipython",
    "version": 3
   },
   "file_extension": ".py",
   "mimetype": "text/x-python",
   "name": "python",
   "nbconvert_exporter": "python",
   "pygments_lexer": "ipython3",
   "version": "3.10.6"
  }
 },
 "nbformat": 4,
 "nbformat_minor": 5
}
