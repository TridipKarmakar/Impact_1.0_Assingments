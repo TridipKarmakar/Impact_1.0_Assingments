{
 "cells": [
  {
   "cell_type": "code",
   "execution_count": 43,
   "id": "c780dce4-75b9-4214-a89a-a765f54a714d",
   "metadata": {},
   "outputs": [],
   "source": [
    "# Q1 Which keyword is used to create a function? Create a function to return a list of odd numbers in the\n",
    "# range of 1 to 25.\n",
    "\n",
    "# def keyword is used to create a function in python.\n",
    "\n",
    "# This oddNumbers return a list of odd numbers in the range of 1 to 25.\n",
    "\n",
    "def oddNumbers():\n",
    "    l = []\n",
    "    for i in range(1,26):\n",
    "        if i % 2 != 0:\n",
    "            l.append(i)\n",
    "    return l\n",
    "        "
   ]
  },
  {
   "cell_type": "code",
   "execution_count": 44,
   "id": "4edfbd63-bf77-43ad-aa68-5962b4baa360",
   "metadata": {},
   "outputs": [
    {
     "data": {
      "text/plain": [
       "[1, 3, 5, 7, 9, 11, 13, 15, 17, 19, 21, 23, 25]"
      ]
     },
     "execution_count": 44,
     "metadata": {},
     "output_type": "execute_result"
    }
   ],
   "source": [
    "oddNumbers()"
   ]
  },
  {
   "cell_type": "code",
   "execution_count": 3,
   "id": "4b8d7ad9-5829-4126-99e5-c4d685f7f90c",
   "metadata": {},
   "outputs": [],
   "source": [
    "# Q2. Why *args and **kwargs is used in some functions? Create a function each for *args and **kwargs\n",
    "# to demonstrate their use. \n",
    "\n",
    "# *args argumments allows the function to accept any number of arguments. When *args is used in the function,\n",
    "# it collects all the arguments passed to the function as a tuple.\n",
    "\n",
    "# **kwargs argumments also allows the function to accept any number of arguments. \n",
    "# When **kwargs is used in the function, it collects all the arguments passed to the function as a dictionary.\n",
    "\n",
    "\n",
    "def printFunction(*args):\n",
    "    return args\n",
    "\n",
    "def printDisc(**kwargs):\n",
    "    return kwargs\n"
   ]
  },
  {
   "cell_type": "code",
   "execution_count": 4,
   "id": "a1ccc5f2-6be1-4ff2-8677-667106760b6b",
   "metadata": {},
   "outputs": [
    {
     "name": "stdout",
     "output_type": "stream",
     "text": [
      "(1, 2, 3, 4)\n"
     ]
    },
    {
     "data": {
      "text/plain": [
       "tuple"
      ]
     },
     "execution_count": 4,
     "metadata": {},
     "output_type": "execute_result"
    }
   ],
   "source": [
    "print(printFunction(1,2,3,4))\n",
    "type(printFunction(1,2,3,4))"
   ]
  },
  {
   "cell_type": "code",
   "execution_count": 5,
   "id": "1674b0a6-df9f-4b3e-bf51-b0707ba67f22",
   "metadata": {},
   "outputs": [
    {
     "name": "stdout",
     "output_type": "stream",
     "text": [
      "{'First_Name': 'Tridip', 'Last_Name': 'Karmakar'}\n"
     ]
    },
    {
     "data": {
      "text/plain": [
       "dict"
      ]
     },
     "execution_count": 5,
     "metadata": {},
     "output_type": "execute_result"
    }
   ],
   "source": [
    "print(printDisc(First_Name='Tridip',Last_Name='Karmakar'))\n",
    "type(printDisc(First_Name='Tridip',Last_Name='Karmakar'))"
   ]
  },
  {
   "cell_type": "code",
   "execution_count": 94,
   "id": "ac054730-0daf-4d7e-8423-bcab34607ec2",
   "metadata": {},
   "outputs": [
    {
     "name": "stdout",
     "output_type": "stream",
     "text": [
      "2\n",
      "4\n",
      "6\n",
      "8\n",
      "10\n"
     ]
    }
   ],
   "source": [
    "# Q3. What is an iterator in python? Name the method used to initialise the iterator object and the method\n",
    "# used for iteration. Use these methods to print the first five elements of the given list [2, 4, 6, 8, 10, 12, 14, 16, 18, 20].\n",
    "\n",
    "# 1.\n",
    "# Iterators are used to represent a sequence of values that can be iterated over, one at a time, \n",
    "# allowing you to loop through them or access them in a sequential manner.\n",
    "\n",
    "# 2.\n",
    "# The method used to initialize the iterator object is iter(). This method is called when an iterator object is created, and should return the iterator \n",
    "# object itself.\n",
    "\n",
    "# The method used for iteration is next(). This method is called repeatedly to get the next value in the sequence represented by the iterator,\n",
    "# and should return the next value.\n",
    "\n",
    "#3.\n",
    "list1 = [2, 4, 6, 8, 10, 12, 14, 16, 18, 20]\n",
    "list_iterator_obj = iter(list1)\n",
    "for i in range(5) :\n",
    "    print (next(list_iterator_obj))"
   ]
  },
  {
   "cell_type": "code",
   "execution_count": null,
   "id": "a897e448-2901-4963-ae7e-317007396a44",
   "metadata": {},
   "outputs": [],
   "source": [
    "# Q4. What is a generator function in python? Why yield keyword is used? Give an example of a generator function.\n",
    "\n",
    "# Generator function that returns an iterator, which is used to generate a series of values. \n",
    "# This functions use the yield syntax to Throw a value each time they are called.\n",
    "\n",
    "# Yield keyword is that it allows to generate sequences of data incrementally, rather than computing the entire sequence at once like return keyword. \n",
    "# This can be particularly useful when working with data that is too large to fit into memory, or when working with streams of data\n",
    "# that are being generated in real-time, this can save a lot of memory and processing time when working with large."
   ]
  },
  {
   "cell_type": "code",
   "execution_count": 79,
   "id": "6e4428cf-e2ba-4cfb-ba97-1e393fa319ab",
   "metadata": {
    "tags": []
   },
   "outputs": [],
   "source": [
    "# Q5. Create a generator function for prime numbers less than 1000. Use the next() method to print the \n",
    "# first 20 prime numbers.\n",
    "\n",
    "def isprime():\n",
    "    i = 2\n",
    "    n = 1000\n",
    "    while (i < n ):\n",
    "        prime = True\n",
    "        for a in range (2,i):\n",
    "            if (i % a == 0 ):\n",
    "                prime = False\n",
    "                break\n",
    "        if prime :\n",
    "            yield i\n",
    "        i += 1"
   ]
  },
  {
   "cell_type": "code",
   "execution_count": 84,
   "id": "504797b1-5692-4952-9964-4d6632110e45",
   "metadata": {},
   "outputs": [
    {
     "name": "stdout",
     "output_type": "stream",
     "text": [
      "2\n",
      "3\n",
      "5\n",
      "7\n",
      "11\n",
      "13\n",
      "17\n",
      "19\n",
      "23\n",
      "29\n",
      "31\n",
      "37\n",
      "41\n",
      "43\n",
      "47\n",
      "53\n",
      "59\n",
      "61\n",
      "67\n",
      "71\n"
     ]
    }
   ],
   "source": [
    "l1 = isprime()\n",
    "for i in range (0,20):\n",
    "    print (next(l1))\n"
   ]
  },
  {
   "cell_type": "code",
   "execution_count": 83,
   "id": "15191cd7-43e8-4e73-aa62-73295ccd7229",
   "metadata": {},
   "outputs": [
    {
     "name": "stdout",
     "output_type": "stream",
     "text": [
      "1 Fibonacci numbers is :  1\n",
      "2 Fibonacci numbers is :  1\n",
      "3 Fibonacci numbers is :  2\n",
      "4 Fibonacci numbers is :  3\n",
      "5 Fibonacci numbers is :  5\n",
      "6 Fibonacci numbers is :  8\n",
      "7 Fibonacci numbers is :  13\n",
      "8 Fibonacci numbers is :  21\n",
      "9 Fibonacci numbers is :  34\n",
      "10 Fibonacci numbers is :  55\n"
     ]
    }
   ],
   "source": [
    "# Q6. Write a python program to print the first 10 Fibonacci numbers using a while loop.\n",
    "\n",
    "# fib =0+1 = 1 +2 =3+3 =6+4 = 10 +5 = 15 + 6 = 21 + 7 = 28 + 8 = 36 + 9 = 45 + 10 = 55\n",
    "a,b = 0,1\n",
    "i = 0\n",
    "while i < 10: \n",
    "    c = a + b\n",
    "    a = b\n",
    "    b = c\n",
    "    i = i + 1\n",
    "    print(f\"{i} Fibonacci numbers is : \" , a)\n"
   ]
  },
  {
   "cell_type": "code",
   "execution_count": 137,
   "id": "f472279a-0dae-4c4f-91d7-0c43f6715123",
   "metadata": {},
   "outputs": [],
   "source": [
    "# Q7. Write a List Comprehension to iterate through the given string: ‘pwskills’.\n",
    "# Expected output: ['p', 'w', 's', 'k', 'i', 'l', 'l', 's']\n",
    "String = 'pwskills'\n",
    "L1 = []"
   ]
  },
  {
   "cell_type": "code",
   "execution_count": 139,
   "id": "7ee2b6b0-e44a-40b9-9159-145c1b0c8f0d",
   "metadata": {},
   "outputs": [
    {
     "data": {
      "text/plain": [
       "['p', 'w', 's', 'k', 'i', 'l', 'l', 's']"
      ]
     },
     "execution_count": 139,
     "metadata": {},
     "output_type": "execute_result"
    }
   ],
   "source": [
    "[L1.append(i) for i in String ]\n",
    "L1"
   ]
  },
  {
   "cell_type": "code",
   "execution_count": 1,
   "id": "d94358d6-5de8-4104-82e9-60e01dc6a232",
   "metadata": {},
   "outputs": [
    {
     "name": "stdin",
     "output_type": "stream",
     "text": [
      "Please enter Your Number :  121\n"
     ]
    },
    {
     "name": "stdout",
     "output_type": "stream",
     "text": [
      "Given number is Palindrome\n"
     ]
    }
   ],
   "source": [
    "## Q8. Write a python program to check whether a given number is Palindrome or not using a while loop.\n",
    "Input = int(input(\"Please enter Your Number : \"))\n",
    "number = Input \n",
    "P = 0\n",
    "\n",
    "while number > 0 :\n",
    "    P = P * 10\n",
    "    P = P + (number % 10)\n",
    "    number = int(number /10)\n",
    "if Input == P:\n",
    "    print (\"Given number is Palindrome\")\n",
    "else :\n",
    "    print (\"Given number is Not Palindrome\")"
   ]
  },
  {
   "cell_type": "code",
   "execution_count": 88,
   "id": "48c4c4c1-0907-486e-87c0-916c825b5b9f",
   "metadata": {},
   "outputs": [
    {
     "name": "stdout",
     "output_type": "stream",
     "text": [
      "[1, 3, 5, 7, 9, 11, 13, 15, 17, 19, 21, 23, 25, 27, 29, 31, 33, 35, 37, 39, 41, 43, 45, 47, 49, 51, 53, 55, 57, 59, 61, 63, 65, 67, 69, 71, 73, 75, 77, 79, 81, 83, 85, 87, 89, 91, 93, 95, 97, 99]\n"
     ]
    }
   ],
   "source": [
    "## Q9. Write a code to print odd numbers from 1 to 100 using list comprehension.\n",
    "list1 = [i for i in range(1,100)]\n",
    "list2 = [i for i in list1 if i % 2 != 0 ]\n",
    "print (list2)"
   ]
  }
 ],
 "metadata": {
  "kernelspec": {
   "display_name": "Python 3 (ipykernel)",
   "language": "python",
   "name": "python3"
  },
  "language_info": {
   "codemirror_mode": {
    "name": "ipython",
    "version": 3
   },
   "file_extension": ".py",
   "mimetype": "text/x-python",
   "name": "python",
   "nbconvert_exporter": "python",
   "pygments_lexer": "ipython3",
   "version": "3.10.6"
  }
 },
 "nbformat": 4,
 "nbformat_minor": 5
}
