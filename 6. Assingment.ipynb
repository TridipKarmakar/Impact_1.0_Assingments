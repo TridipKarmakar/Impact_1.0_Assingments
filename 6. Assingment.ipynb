{
 "cells": [
  {
   "cell_type": "code",
   "execution_count": 1,
   "id": "db6d2636-0cc2-40b8-8159-5a2538f3ca57",
   "metadata": {},
   "outputs": [
    {
     "data": {
      "text/plain": [
       "' Python was created by Guido van Rossum in the late 1980s while he was working at the National \\n    Research Institute for Mathematics and Computer Science (CWI) in the Netherlands. Van Rossum initially \\n    designed Python as a hobby project to improve the ABC programming language, which he had been using at \\n    the time. Over the years, Python has grown in popularity and is now widely used in many industries, \\n    including web development, data science, and artificial intelligence.'"
      ]
     },
     "execution_count": 1,
     "metadata": {},
     "output_type": "execute_result"
    }
   ],
   "source": [
    "# Who developed Python programming language ?\n",
    "''' Python was created by Guido van Rossum in the late 1980s while he was working at the National \n",
    "    Research Institute for Mathematics and Computer Science (CWI) in the Netherlands. Van Rossum initially \n",
    "    designed Python as a hobby project to improve the ABC programming language, which he had been using at \n",
    "    the time. Over the years, Python has grown in popularity and is now widely used in many industries, \n",
    "    including web development, data science, and artificial intelligence.'''"
   ]
  },
  {
   "cell_type": "code",
   "execution_count": 2,
   "id": "a6c6004a-ec96-44a1-975c-7170ef4a2f7f",
   "metadata": {},
   "outputs": [
    {
     "data": {
      "text/plain": [
       "\"\\nPython is a general-purpose programming language that supports multiple programming paradigms, including:\\nProcedural programming: This involves writing code that follows a sequential order of steps to achieve a specific task.\\nObject-oriented programming (OOP): This involves creating and using classes and objects to represent and manipulate data.\\nFunctional programming: This involves writing code that focuses on the evaluation of mathematical functions rather than changing state or mutable data.\\nEvent-driven programming: This involves writing code that responds to events or user actions, such as mouse clicks or keystrokes.\\nPython's support for these different programming paradigms makes it a versatile language that can be used for a wide range of applications, \\nincluding web development, scientific computing, data analysis, artificial intelligence, and more. Additionally, Python is known for its\\nsimple and readable syntax, which makes it easy for beginners to learn and use. \""
      ]
     },
     "execution_count": 2,
     "metadata": {},
     "output_type": "execute_result"
    }
   ],
   "source": [
    "# which type of programming python does support ?\n",
    "\n",
    "'''\n",
    "Python is a general-purpose programming language that supports multiple programming paradigms, including:\n",
    "Procedural programming: This involves writing code that follows a sequential order of steps to achieve a specific task.\n",
    "Object-oriented programming (OOP): This involves creating and using classes and objects to represent and manipulate data.\n",
    "Functional programming: This involves writing code that focuses on the evaluation of mathematical functions rather than \n",
    "changing state or mutable data.\n",
    "Event-driven programming: This involves writing code that responds to events or user actions, such as mouse clicks or keystrokes.\n",
    "Python's support for these different programming paradigms makes it a versatile language that can be used for a wide range of \n",
    "applications, including web development, scientific computing, data analysis, artificial intelligence, and more. Additionally, \n",
    "Python is known for its simple and readable syntax, which makes it easy for beginners to learn and use. '''"
   ]
  },
  {
   "cell_type": "code",
   "execution_count": 4,
   "id": "09afd39b-6dfd-4073-a82f-f549b69eadf4",
   "metadata": {},
   "outputs": [
    {
     "data": {
      "text/plain": [
       "'\\nYes, Python is case-sensitive when dealing with identifiers such as variable names, function names, and class names.\\nThis means that my_var, My_Var, and MY_VAR are all different identifiers in Python and can be used to represent different objects. '"
      ]
     },
     "execution_count": 4,
     "metadata": {},
     "output_type": "execute_result"
    }
   ],
   "source": [
    "# is Python case sensetive when dealing with identifyers?\n",
    "'''\n",
    "Yes, Python is case-sensitive when dealing with identifiers such as variable names, function names, and class names.\n",
    "This means that my_var, My_Var, and MY_VAR are all different identifiers in Python and can be used to represent different objects. \n",
    "'''"
   ]
  },
  {
   "cell_type": "code",
   "execution_count": 2,
   "id": "9c412e3a-c7b9-4c84-9ce8-5e7fae135e96",
   "metadata": {},
   "outputs": [
    {
     "data": {
      "text/plain": [
       "'\\nThe correct extension for a Python file is \".py\". This is the standard extension used for Python files, and it is recognized by most text editors \\nand Python interpreters. When we save a Python program, we should give it a name followed by the \".py\" extension to indicate that it is a Python file.\\nFor example, if we have a program called \"my_program\" written in Python, we should save it as \"my_program.py\". '"
      ]
     },
     "execution_count": 2,
     "metadata": {},
     "output_type": "execute_result"
    }
   ],
   "source": [
    "# what is the correct extention of pyton file ?\n",
    "'''\n",
    "The correct extension for a Python file is \".py\". This is the standard extension used for Python files, and it is recognized\n",
    "by most text editors and Python interpreters. When we save a Python program, we should give it a name followed by the \".py\" \n",
    "extension to indicate that it is a Python file. For example, if we have a program called \"my_program\" written in Python, we \n",
    "should save it as \"my_program.py\". '''"
   ]
  },
  {
   "cell_type": "code",
   "execution_count": 4,
   "id": "695e01c6-7899-4e50-8d4d-5f886dec64b2",
   "metadata": {},
   "outputs": [
    {
     "data": {
      "text/plain": [
       "\" \\nPython code is interpreted, not compiled. This means that Python code is executed directly by the Python interpreter, \\nwithout the need for a separate compilation step. When we run a Python program, the interpreter reads the code line \\nby line and executes it immediately. This is in contrast to compiled languages like C or C++, where the source code \\nmust first be compiled into machine code before it can be executed. With Python, we can make changes to our code and\\nsee the results immediately without having to recompile our program. However, it's worth noting that Python does have a\\ncompilation step, but it's done automatically by the interpreter. When we run a Python program, the interpreter first \\ncompiles the code into bytecode, which is a low-level representation of the code that can be executed more efficiently.\\nThe bytecode is then executed by the interpreter.  \""
      ]
     },
     "execution_count": 4,
     "metadata": {},
     "output_type": "execute_result"
    }
   ],
   "source": [
    "# is python code compiled or interpreted ?\n",
    "''' \n",
    "Python code is interpreted, not compiled. This means that Python code is executed directly by the Python interpreter, \n",
    "without the need for a separate compilation step. When we run a Python program, the interpreter reads the code line \n",
    "by line and executes it immediately. This is in contrast to compiled languages like C or C++, where the source code \n",
    "must first be compiled into machine code before it can be executed. With Python, we can make changes to our code and\n",
    "see the results immediately without having to recompile our program. However, it's worth noting that Python does have a\n",
    "compilation step, but it's done automatically by the interpreter. When we run a Python program, the interpreter first \n",
    "compiles the code into bytecode, which is a low-level representation of the code that can be executed more efficiently.\n",
    "The bytecode is then executed by the interpreter.  '''"
   ]
  },
  {
   "cell_type": "code",
   "execution_count": 5,
   "id": "1acfef2b-00fc-43e2-b5bc-906a23f89d0f",
   "metadata": {},
   "outputs": [
    {
     "data": {
      "text/plain": [
       "'\\nIn Python, there are several types of code blocks that can be used to define the structure of a program. Here are some examples:\\n\\nFunction blocks: These are blocks of code that define a function, which is a reusable piece of code that performs a specific task.\\nFunction blocks start with the \"def\" keyword and end with a colon (:), and the code inside the block is indented.\\n\\ndef my_function(arg1, arg2):\\n    # code goes here\\n    return result\\n    \\nConditional blocks: These are blocks of code that define a conditional statement, which is a statement that only runs if a certain \\ncondition is true. Conditional blocks start with the \"if\" keyword, followed by the condition in parentheses, and end with a colon (:). \\nThe code inside the block is indented\\n\\nif x > 10:\\n    # code goes here\\nelse:\\n    # code goes here\\n\\n\\nClass blocks: These are blocks of code that define a class, which is a blueprint for creating objects that share the same properties \\nand methods. Class blocks start with the \"class\" keyword, followed by the class name and a colon (:). The code inside the block is indented.\\n\\nclass MyClass:\\n    def __init__(self, arg1, arg2):\\n        # code goes here\\n    def my_method(self):\\n        # code goes here\\n'"
      ]
     },
     "execution_count": 5,
     "metadata": {},
     "output_type": "execute_result"
    }
   ],
   "source": [
    "# name a few blocks of code used to define in python language ?\n",
    "'''\n",
    "In Python, there are several types of code blocks that can be used to define the structure of a program. Here are some examples:\n",
    "\n",
    "Function blocks: These are blocks of code that define a function, which is a reusable piece of code that performs a specific task.\n",
    "Function blocks start with the \"def\" keyword and end with a colon (:), and the code inside the block is indented.\n",
    "\n",
    "def my_function(arg1, arg2):\n",
    "    # code goes here\n",
    "    return result\n",
    "    \n",
    "Conditional blocks: These are blocks of code that define a conditional statement, which is a statement that only runs if a certain \n",
    "condition is true. Conditional blocks start with the \"if\" keyword, followed by the condition in parentheses, and end with a colon \n",
    "(:). The code inside the block is indented\n",
    "\n",
    "if x > 10:\n",
    "    # code goes here\n",
    "else:\n",
    "    # code goes here\n",
    "\n",
    "\n",
    "Class blocks: These are blocks of code that define a class, which is a blueprint for creating objects that share the same properties\n",
    "and methods. Class blocks start with the \"class\" keyword, followed by the class name and a colon (:). The code inside the block is \n",
    "indented.\n",
    "\n",
    "class MyClass:\n",
    "    def __init__(self, arg1, arg2):\n",
    "        # code goes here\n",
    "    def my_method(self):\n",
    "        # code goes here\n",
    "'''"
   ]
  },
  {
   "cell_type": "code",
   "execution_count": null,
   "id": "6a05809b-a01e-4128-877f-66c06fb032be",
   "metadata": {},
   "outputs": [],
   "source": [
    "# State a charecter uded to give single - line comments in python ?\n",
    "\n",
    "'''\n",
    "In Python, the hash symbol (#) is used to indicate a single-line comment. Any text that appears after the hash symbol on a line \n",
    "is treated as a comment and is ignored by the Python interpreter.'''"
   ]
  },
  {
   "cell_type": "code",
   "execution_count": 8,
   "id": "83e8f277-6875-46d3-a7a7-a9f3e6e0a693",
   "metadata": {},
   "outputs": [
    {
     "name": "stdout",
     "output_type": "stream",
     "text": [
      "3.10.6 | packaged by conda-forge | (main, Aug 22 2022, 20:35:26) [GCC 10.4.0]\n"
     ]
    }
   ],
   "source": [
    "# Mention function which can helps us to find the version of python that we are currently working on ?\n",
    "''' The 'sys' module provides a version attribute that returns a string containing the version number of the Python interpreter. \n",
    "We can use the print() function to display this string on the console. '''\n",
    "import sys\n",
    "print(sys.version) \n"
   ]
  },
  {
   "cell_type": "code",
   "execution_count": 9,
   "id": "45b64425-6e05-4a57-8f97-945360fabd3e",
   "metadata": {},
   "outputs": [],
   "source": [
    "# python supprots the creation of anonymous function at runnning , using a construct called 'lambda' function\n"
   ]
  },
  {
   "cell_type": "code",
   "execution_count": 10,
   "id": "4b5cb3c2-a78f-46f4-ba2b-635bec2ed186",
   "metadata": {},
   "outputs": [
    {
     "data": {
      "text/plain": [
       "'\\npip stands for \"Pip Installs Packages\". It is a package management system used to install and manage software packages written in Python. '"
      ]
     },
     "execution_count": 10,
     "metadata": {},
     "output_type": "execute_result"
    }
   ],
   "source": [
    "# what does pip stands for python ?\n",
    "'''\n",
    "pip stands for \"Pip Installs Packages\". It is a package management system used to install and manage software packages\n",
    "written in Python. ''' "
   ]
  },
  {
   "cell_type": "code",
   "execution_count": 12,
   "id": "89c9c66c-2f25-4e35-a868-dfd9b6d90b3b",
   "metadata": {},
   "outputs": [
    {
     "data": {
      "text/plain": [
       "'\\n\\nPython comes with a large number of built-in functions that provide useful functionality without the need for you to\\nwrite your own code. Here are some of the most commonly used built-in functions in Python:\\nprint() - This function is used to print output to the console.\\ninput() - This function is used to accept user input from the console.\\nlen() - This function is used to get the length of an object, such as a string or a list.\\nrange() - This function is used to generate a sequence of numbers.\\nopen() - This function is used to open a file for reading or writing.\\ntype() - This function is used to get the data type of an object.\\nstr() - This function is used to convert an object to a string.\\nint() - This function is used to convert an object to an integer.\\nfloat() - This function is used to convert an object to a float.\\nlist() - This function is used to convert an object to a list.\\ndict() - This function is used to create a new dictionary.\\nset() - This function is used to create a new set.\\nsum() - This function is used to get the sum of a sequence of numbers.\\nmax() - This function is used to get the maximum value in a sequence.\\nmin() - This function is used to get the minimum value in a sequenc '"
      ]
     },
     "execution_count": 12,
     "metadata": {},
     "output_type": "execute_result"
    }
   ],
   "source": [
    "# Mention the built- in functions in python ?\n",
    "'''\n",
    "\n",
    "Python comes with a large number of built-in functions that provide useful functionality without the need for you to\n",
    "write your own code. Here are some of the most commonly used built-in functions in Python:\n",
    "print() - This function is used to print output to the console.\n",
    "input() - This function is used to accept user input from the console.\n",
    "len() - This function is used to get the length of an object, such as a string or a list.\n",
    "range() - This function is used to generate a sequence of numbers.\n",
    "open() - This function is used to open a file for reading or writing.\n",
    "type() - This function is used to get the data type of an object.\n",
    "str() - This function is used to convert an object to a string.\n",
    "int() - This function is used to convert an object to an integer.\n",
    "float() - This function is used to convert an object to a float.\n",
    "list() - This function is used to convert an object to a list.\n",
    "dict() - This function is used to create a new dictionary.\n",
    "set() - This function is used to create a new set.\n",
    "sum() - This function is used to get the sum of a sequence of numbers.\n",
    "max() - This function is used to get the maximum value in a sequence.\n",
    "min() - This function is used to get the minimum value in a sequenc '''"
   ]
  },
  {
   "cell_type": "code",
   "execution_count": 13,
   "id": "1f1374b0-083c-4f02-884c-7318c06a2274",
   "metadata": {},
   "outputs": [
    {
     "data": {
      "text/plain": [
       "'In Python, the maximum possible length of an identifier is not explicitly defined. However, in practical terms, \\nthe length of an identifier is limited by the memory available in our system and the constraints of the programming environment. '"
      ]
     },
     "execution_count": 13,
     "metadata": {},
     "output_type": "execute_result"
    }
   ],
   "source": [
    "# what is the maximum possible lenth of an identifier in python ?\n",
    "'''In Python, the maximum possible length of an identifier is not explicitly defined. However, in practical terms, \n",
    "the length of an identifier is limited by the memory available in our system and the constraints of the programming environment. '''"
   ]
  },
  {
   "cell_type": "code",
   "execution_count": 14,
   "id": "7bd97359-42c5-41da-9a76-061313ffae4c",
   "metadata": {},
   "outputs": [
    {
     "data": {
      "text/plain": [
       "'\\nEasy to Learn: Python has a simple and easy-to-learn syntax that makes it accessible toall. \\nLarge and Active Community: Python has a large and active community of developers and users who contribute to the language and its ecosystem.\\nThis means that there are many resources available for learning and problem-solving, such as forums, tutorials, and libraries.\\nVersatile: Python can be used for a wide range of applications, from web development to scientific computing to machine learning. \\nIt is also platform-independent, meaning that it can be used on Windows, Mac, and Linux.\\nLibraries and Frameworks: Python has a vast ecosystem of libraries and frameworks that make it easy to accomplish common tasks. \\nOpen-Source: Python is open-source software, meaning that it is free to use, distribute, and modify. This makes it accessible to a \\nwider range of users and organizations, from individuals to large corporations.\\nHigh-Level Language: Python is a high-level language, meaning that it abstracts away many low-level details,\\nsuch as memory management and machine architecture. This makes it easier and faster to write code, as developers \\ncan focus on the logic of the program rather than the details of the system.  '"
      ]
     },
     "execution_count": 14,
     "metadata": {},
     "output_type": "execute_result"
    }
   ],
   "source": [
    "# what are the benifits of  using python ?\n",
    "'''\n",
    "Easy to Learn: Python has a simple and easy-to-learn syntax that makes it accessible toall. \n",
    "Large and Active Community: Python has a large and active community of developers and users who contribute to the language and its ecosystem.\n",
    "This means that there are many resources available for learning and problem-solving, such as forums, tutorials, and libraries.\n",
    "Versatile: Python can be used for a wide range of applications, from web development to scientific computing to machine learning. \n",
    "It is also platform-independent, meaning that it can be used on Windows, Mac, and Linux.\n",
    "Libraries and Frameworks: Python has a vast ecosystem of libraries and frameworks that make it easy to accomplish common tasks. \n",
    "Open-Source: Python is open-source software, meaning that it is free to use, distribute, and modify. This makes it accessible to a \n",
    "wider range of users and organizations, from individuals to large corporations.\n",
    "High-Level Language: Python is a high-level language, meaning that it abstracts away many low-level details,\n",
    "such as memory management and machine architecture. This makes it easier and faster to write code, as developers \n",
    "can focus on the logic of the program rather than the details of the system.  '''"
   ]
  },
  {
   "cell_type": "code",
   "execution_count": 17,
   "id": "77665dad-167e-44c2-97cc-cf934c8de6cf",
   "metadata": {},
   "outputs": [
    {
     "data": {
      "text/plain": [
       "'Memory management in Python is handled automatically by a process called \"garbage collection\". \\nThis process runs in the background and periodically checks the memory usage of the program to identify objects that are no longer being used. \\nThese objects are then deleted from memory to free up space for other objects.\\nPython uses a reference counting system to keep track of the number of references to an object. Each time a new reference to an object is created, \\nthe reference count for that object is incremented. When a reference is deleted or goes out of scope, the reference count for the object is decremented. \\nWhen the reference count for an object reaches zero, the garbage collector deletes the object from memory.\\nIn addition to reference counting, Python also uses a cyclic garbage collector to identify and delete objects that are part of a cyclic reference. \\nA cyclic reference occurs when two or more objects reference each other in a circular manner, making it impossible for the reference count to reach zero. \\nThe cyclic garbage collector periodically checks for cyclic references and deletes the objects that are part of them.\\nPython\\'s memory management system is designed to be efficient and automatic, which makes it easy for developers to focus on writing code rather than \\nmanaging memory. However, it\\'s important for developers to be aware of memory usage in their programs and to avoid creating unnecessary objects or \\nkeeping references to objects that are no longer needed, as this can lead to performance issues and memory leaks. '"
      ]
     },
     "execution_count": 17,
     "metadata": {},
     "output_type": "execute_result"
    }
   ],
   "source": [
    "# How is memory managed in python ?\n",
    "'''Memory management in Python is handled automatically by a process called \"garbage collection\". \n",
    "This process runs in the background and periodically checks the memory usage of the program to identify objects that are no longer being used. \n",
    "These objects are then deleted from memory to free up space for other objects.\n",
    "Python uses a reference counting system to keep track of the number of references to an object. Each time a new reference to an object is created, \n",
    "the reference count for that object is incremented. When a reference is deleted or goes out of scope, the reference count for the object is decremented. \n",
    "When the reference count for an object reaches zero, the garbage collector deletes the object from memory.\n",
    "In addition to reference counting, Python also uses a cyclic garbage collector to identify and delete objects that are part of a cyclic reference. \n",
    "A cyclic reference occurs when two or more objects reference each other in a circular manner, making it impossible for the reference count to reach zero. \n",
    "The cyclic garbage collector periodically checks for cyclic references and deletes the objects that are part of them.\n",
    "Python's memory management system is designed to be efficient and automatic, which makes it easy for developers to focus on writing code rather than \n",
    "managing memory. However, it's important for developers to be aware of memory usage in their programs and to avoid creating unnecessary objects or \n",
    "keeping references to objects that are no longer needed, as this can lead to performance issues and memory leaks. '''\n"
   ]
  },
  {
   "cell_type": "code",
   "execution_count": 19,
   "id": "72069b6d-4119-4fa7-aa50-951b4ced66cf",
   "metadata": {},
   "outputs": [
    {
     "data": {
      "text/plain": [
       "'\\n1. Go to the official Python website (https://www.python.org/downloads/) and download the latest version of Python for Windows. \\nMake sure to select the correct version (32-bit or 64-bit) for your system.\\n2. Run the installer and follow the on-screen instructions to install Python on your computer. When prompted, \\nmake sure to select the option to \"Add Python to PATH\".\\n3. Once the installation is complete, open the command prompt by pressing the Windows key + R and typing \"cmd\" in the \"Run\" dialog box.\\n4. Type \"python\" in the command prompt and press Enter. If Python is installed correctly, you should see the Python prompt \">>>\".\\n5. If you don\\'t see the Python prompt, you may need to set the path variables manually. To do this, go to \"Control Panel\" > \\n\"System and Security\" > \"System\" > \"Advanced system settings\" > \"Environment Variables\".\\n6. Under \"System Variables\", scroll down to \"Path\" and click \"Edit\". Add the following path to the end of the \\nlist: \";C:\\\\PythonXX;C:\\\\PythonXX\\\\Scripts\" (replace \"XX\" with the version number of Python that you installed).\\n7. Click \"OK\" to save the changes and close the Environment Variables dialog boxes.\\n8. Close and reopen the command prompt, then type \"python\" again to confirm that Python is now working correctly. '"
      ]
     },
     "execution_count": 19,
     "metadata": {},
     "output_type": "execute_result"
    }
   ],
   "source": [
    "# how to install python on windows computer and set path variables ?\n",
    "'''\n",
    "1. Go to the official Python website (https://www.python.org/downloads/) and download the latest version of Python for Windows. \n",
    "Make sure to select the correct version (32-bit or 64-bit) for your system.\n",
    "2. Run the installer and follow the on-screen instructions to install Python on your computer. When prompted, \n",
    "make sure to select the option to \"Add Python to PATH\".\n",
    "3. Once the installation is complete, open the command prompt by pressing the Windows key + R and typing \"cmd\" in the \"Run\" dialog box.\n",
    "4. Type \"python\" in the command prompt and press Enter. If Python is installed correctly, you should see the Python prompt \">>>\".\n",
    "5. If you don't see the Python prompt, you may need to set the path variables manually. To do this, go to \"Control Panel\" > \n",
    "\"System and Security\" > \"System\" > \"Advanced system settings\" > \"Environment Variables\".\n",
    "6. Under \"System Variables\", scroll down to \"Path\" and click \"Edit\". Add the following path to the end of the \n",
    "list: \";C:\\PythonXX;C:\\PythonXX\\Scripts\" (replace \"XX\" with the version number of Python that you installed).\n",
    "7. Click \"OK\" to save the changes and close the Environment Variables dialog boxes.\n",
    "8. Close and reopen the command prompt, then type \"python\" again to confirm that Python is now working correctly. '''"
   ]
  },
  {
   "cell_type": "code",
   "execution_count": 21,
   "id": "e64b6cb1-f8ea-4fdb-adb7-f186966103a0",
   "metadata": {},
   "outputs": [
    {
     "data": {
      "text/plain": [
       "'\\nYes, indentation is required in Python. Unlike many other programming languages, Python uses indentation to indicate blocks of code. \\nThis means that the level of indentation determines which statements belong to which block of code. '"
      ]
     },
     "execution_count": 21,
     "metadata": {},
     "output_type": "execute_result"
    }
   ],
   "source": [
    "# is indentation required in python ?\n",
    "'''\n",
    "Yes, indentation is required in Python. Unlike many other programming languages, Python uses indentation to indicate blocks of code. \n",
    "This means that the level of indentation determines which statements belong to which block of code. '''"
   ]
  },
  {
   "cell_type": "code",
   "execution_count": null,
   "id": "1bc4c00c-c71f-4c1c-9f5b-f4e18774fb0e",
   "metadata": {},
   "outputs": [],
   "source": []
  }
 ],
 "metadata": {
  "kernelspec": {
   "display_name": "Python 3 (ipykernel)",
   "language": "python",
   "name": "python3"
  },
  "language_info": {
   "codemirror_mode": {
    "name": "ipython",
    "version": 3
   },
   "file_extension": ".py",
   "mimetype": "text/x-python",
   "name": "python",
   "nbconvert_exporter": "python",
   "pygments_lexer": "ipython3",
   "version": "3.10.6"
  }
 },
 "nbformat": 4,
 "nbformat_minor": 5
}
